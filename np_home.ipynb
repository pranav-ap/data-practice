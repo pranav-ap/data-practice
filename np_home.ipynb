{
 "cells": [
  {
   "cell_type": "code",
   "execution_count": 2,
   "id": "dd07ef91-7b86-433b-a207-917a6a3435ee",
   "metadata": {},
   "outputs": [],
   "source": [
    "import numpy as np"
   ]
  },
  {
   "cell_type": "markdown",
   "id": "2306d955-1133-4643-8825-a2392eddc408",
   "metadata": {
    "tags": []
   },
   "source": [
    "# Basics"
   ]
  },
  {
   "cell_type": "markdown",
   "id": "2cd85f69-6af5-4c46-bb4f-4fb3b890effe",
   "metadata": {},
   "source": [
    "## Array Attributes"
   ]
  },
  {
   "cell_type": "code",
   "execution_count": 3,
   "id": "e469eeb8-0951-459a-8343-e22109762a5d",
   "metadata": {},
   "outputs": [],
   "source": [
    "rng = np.random.default_rng(seed=1701) # seed for reproducibility\n",
    "\n",
    "x1 = rng.integers(10, size=6) # one-dimensional array\n",
    "x2 = rng.integers(10, size=(3, 4)) # two-dimensional array\n",
    "x3 = rng.integers(10, size=(3, 4, 5)) # three-dimensional array"
   ]
  },
  {
   "cell_type": "code",
   "execution_count": 4,
   "id": "0104d2d2-fc0b-413e-ac11-f33a0c76d47d",
   "metadata": {},
   "outputs": [
    {
     "name": "stdout",
     "output_type": "stream",
     "text": [
      "x3 ndim:  3\n",
      "x3 shape: (3, 4, 5)\n",
      "x3 size:  60\n",
      "dtype:  int64\n"
     ]
    }
   ],
   "source": [
    " print(\"x3 ndim: \", x3.ndim)\n",
    " print(\"x3 shape:\", x3.shape)\n",
    " print(\"x3 size: \", x3.size)\n",
    " print(\"dtype: \", x3.dtype)"
   ]
  },
  {
   "cell_type": "markdown",
   "id": "94b8a12c-b128-44e5-883a-81eba55b6f9d",
   "metadata": {},
   "source": [
    "## Array Indexing"
   ]
  },
  {
   "cell_type": "code",
   "execution_count": 5,
   "id": "fa7ceff8-8860-4230-baf7-7808db7ab3dc",
   "metadata": {},
   "outputs": [
    {
     "data": {
      "text/plain": [
       "array([9, 4, 0, 3, 8, 6], dtype=int64)"
      ]
     },
     "execution_count": 5,
     "metadata": {},
     "output_type": "execute_result"
    }
   ],
   "source": [
    "x1"
   ]
  },
  {
   "cell_type": "code",
   "execution_count": 6,
   "id": "014863f2-d4a4-4b43-a578-6df5f6532aa0",
   "metadata": {},
   "outputs": [
    {
     "data": {
      "text/plain": [
       "(0, 8)"
      ]
     },
     "execution_count": 6,
     "metadata": {},
     "output_type": "execute_result"
    }
   ],
   "source": [
    "# To index from the end of the array, you can use negative indices\n",
    "x1[2], x1[-2]"
   ]
  },
  {
   "cell_type": "code",
   "execution_count": 7,
   "id": "9070d15d-eecb-4e4e-92d5-0d0596ad2488",
   "metadata": {},
   "outputs": [
    {
     "data": {
      "text/plain": [
       "array([[3, 1, 3, 7],\n",
       "       [4, 0, 2, 3],\n",
       "       [0, 0, 6, 9]], dtype=int64)"
      ]
     },
     "execution_count": 7,
     "metadata": {},
     "output_type": "execute_result"
    }
   ],
   "source": [
    "x2"
   ]
  },
  {
   "cell_type": "code",
   "execution_count": 8,
   "id": "3740747e-5c96-43cb-b4b1-0153fe61cd8c",
   "metadata": {},
   "outputs": [
    {
     "data": {
      "text/plain": [
       "2"
      ]
     },
     "execution_count": 8,
     "metadata": {},
     "output_type": "execute_result"
    }
   ],
   "source": [
    "x2[1, 2]"
   ]
  },
  {
   "cell_type": "markdown",
   "id": "2b1db2c6-97a2-4621-9b83-6971c74c91bb",
   "metadata": {},
   "source": [
    "Keep in mind that, unlike Python lists, NumPy arrays have a fixed type. This means,\n",
    "for example, that if you attempt to insert a floating-point value into an integer array,\n",
    "the value will be silently truncated. Don’t be caught unaware by this behavior!"
   ]
  },
  {
   "cell_type": "code",
   "execution_count": 9,
   "id": "2ec2bf90-a7d4-4a84-a5f3-4b1b0e26490d",
   "metadata": {},
   "outputs": [
    {
     "data": {
      "text/plain": [
       "array([3, 4, 0, 3, 8, 6], dtype=int64)"
      ]
     },
     "execution_count": 9,
     "metadata": {},
     "output_type": "execute_result"
    }
   ],
   "source": [
    "x1[0] = 3.14159\n",
    "x1"
   ]
  },
  {
   "cell_type": "markdown",
   "id": "668d8198-b7a5-46c9-9716-f909592bde73",
   "metadata": {},
   "source": [
    "### Fancy Indexing"
   ]
  },
  {
   "cell_type": "code",
   "execution_count": 10,
   "id": "ddd017dc-3d04-4f51-81d3-212281a9495d",
   "metadata": {},
   "outputs": [
    {
     "data": {
      "text/plain": [
       "array([0, 3, 8], dtype=int64)"
      ]
     },
     "execution_count": 10,
     "metadata": {},
     "output_type": "execute_result"
    }
   ],
   "source": [
    "# fancy indexing means you use an array as index\n",
    "ind = [2, 3, 4]\n",
    "x1[ind]"
   ]
  },
  {
   "cell_type": "code",
   "execution_count": 11,
   "id": "a19f9729-627e-4115-9879-98a4fb5e8024",
   "metadata": {},
   "outputs": [
    {
     "data": {
      "text/plain": [
       "array([[3, 0],\n",
       "       [8, 4]], dtype=int64)"
      ]
     },
     "execution_count": 11,
     "metadata": {},
     "output_type": "execute_result"
    }
   ],
   "source": [
    "# shape of result reflects the shape of the index array \n",
    "# not the shape of the array being indexed\n",
    "\n",
    "ind = np.array([[3, 2], [4, 1]])\n",
    "x1[ind]"
   ]
  },
  {
   "cell_type": "markdown",
   "id": "e6f64513-aac9-4238-b170-4f268aad91aa",
   "metadata": {},
   "source": [
    "## Array Slicing"
   ]
  },
  {
   "cell_type": "markdown",
   "id": "b8cdf8db-b9ee-4188-8fbf-73036eb1cac9",
   "metadata": {},
   "source": [
    "### For 1D Array"
   ]
  },
  {
   "cell_type": "code",
   "execution_count": 12,
   "id": "23cd3f21-3786-4d42-8a4a-43eb30a16c87",
   "metadata": {},
   "outputs": [
    {
     "data": {
      "text/plain": [
       "array([3, 4, 0, 3, 8, 6], dtype=int64)"
      ]
     },
     "execution_count": 12,
     "metadata": {},
     "output_type": "execute_result"
    }
   ],
   "source": [
    "x1"
   ]
  },
  {
   "cell_type": "code",
   "execution_count": 13,
   "id": "a7783485-7336-416d-baca-8d7c5f4db695",
   "metadata": {},
   "outputs": [
    {
     "data": {
      "text/plain": [
       "array([3, 4, 0], dtype=int64)"
      ]
     },
     "execution_count": 13,
     "metadata": {},
     "output_type": "execute_result"
    }
   ],
   "source": [
    "x1[:3] # first three elements"
   ]
  },
  {
   "cell_type": "code",
   "execution_count": 14,
   "id": "eafc208d-da6b-47d3-b777-8345d805f640",
   "metadata": {},
   "outputs": [
    {
     "data": {
      "text/plain": [
       "array([3, 8, 6], dtype=int64)"
      ]
     },
     "execution_count": 14,
     "metadata": {},
     "output_type": "execute_result"
    }
   ],
   "source": [
    "x1[3:] # elements from index 3"
   ]
  },
  {
   "cell_type": "code",
   "execution_count": 15,
   "id": "129d139d-1974-483a-aff9-23c27f70c0a8",
   "metadata": {},
   "outputs": [
    {
     "data": {
      "text/plain": [
       "array([4, 0, 3], dtype=int64)"
      ]
     },
     "execution_count": 15,
     "metadata": {},
     "output_type": "execute_result"
    }
   ],
   "source": [
    "x1[1:4] # middle subarray"
   ]
  },
  {
   "cell_type": "code",
   "execution_count": 16,
   "id": "1b9d5a6a-c5c0-4d24-b719-b09c816dfacc",
   "metadata": {},
   "outputs": [
    {
     "data": {
      "text/plain": [
       "array([3, 0, 8], dtype=int64)"
      ]
     },
     "execution_count": 16,
     "metadata": {},
     "output_type": "execute_result"
    }
   ],
   "source": [
    "x1[::2] # every second element"
   ]
  },
  {
   "cell_type": "code",
   "execution_count": 17,
   "id": "f742eb05-9372-40ad-8dae-b7538b7f9924",
   "metadata": {},
   "outputs": [
    {
     "data": {
      "text/plain": [
       "array([4, 3, 6], dtype=int64)"
      ]
     },
     "execution_count": 17,
     "metadata": {},
     "output_type": "execute_result"
    }
   ],
   "source": [
    "x1[1::2] # every second element, starting at index 1"
   ]
  },
  {
   "cell_type": "code",
   "execution_count": 18,
   "id": "5fd83594-3fab-4802-8100-0a9bc0b475e6",
   "metadata": {},
   "outputs": [
    {
     "data": {
      "text/plain": [
       "array([6, 8, 3, 0, 4, 3], dtype=int64)"
      ]
     },
     "execution_count": 18,
     "metadata": {},
     "output_type": "execute_result"
    }
   ],
   "source": [
    "x1[::-1] # all elements, reversed"
   ]
  },
  {
   "cell_type": "code",
   "execution_count": 19,
   "id": "6fbc6b2a-a15b-4b63-ab37-fa0d045fbb59",
   "metadata": {},
   "outputs": [
    {
     "data": {
      "text/plain": [
       "array([8, 0, 3], dtype=int64)"
      ]
     },
     "execution_count": 19,
     "metadata": {},
     "output_type": "execute_result"
    }
   ],
   "source": [
    "x1[4::-2] # every second element from index 4, reversed"
   ]
  },
  {
   "cell_type": "markdown",
   "id": "f7c50303-1f5f-4537-b9e2-2f91c23dfc51",
   "metadata": {},
   "source": [
    "### For 2D Array"
   ]
  },
  {
   "cell_type": "code",
   "execution_count": 20,
   "id": "c150355f-c17e-4b66-a0c1-4cb0d530796e",
   "metadata": {},
   "outputs": [
    {
     "data": {
      "text/plain": [
       "array([[3, 1, 3, 7],\n",
       "       [4, 0, 2, 3],\n",
       "       [0, 0, 6, 9]], dtype=int64)"
      ]
     },
     "execution_count": 20,
     "metadata": {},
     "output_type": "execute_result"
    }
   ],
   "source": [
    "x2"
   ]
  },
  {
   "cell_type": "code",
   "execution_count": 21,
   "id": "24d1d89f-3fc8-4ea8-958f-e148c29ede8c",
   "metadata": {},
   "outputs": [
    {
     "data": {
      "text/plain": [
       "array([[3, 1, 3],\n",
       "       [4, 0, 2]], dtype=int64)"
      ]
     },
     "execution_count": 21,
     "metadata": {},
     "output_type": "execute_result"
    }
   ],
   "source": [
    "x2[:2, :3] # first two rows & three columns"
   ]
  },
  {
   "cell_type": "code",
   "execution_count": 22,
   "id": "4a03e160-afd2-4376-b306-e932ede006a7",
   "metadata": {},
   "outputs": [
    {
     "data": {
      "text/plain": [
       "array([[3, 3],\n",
       "       [4, 2],\n",
       "       [0, 6]], dtype=int64)"
      ]
     },
     "execution_count": 22,
     "metadata": {},
     "output_type": "execute_result"
    }
   ],
   "source": [
    "x2[:3, ::2] # three rows, every second column"
   ]
  },
  {
   "cell_type": "code",
   "execution_count": 23,
   "id": "e1652879-6667-4eab-9fb0-7ab234dea926",
   "metadata": {},
   "outputs": [
    {
     "data": {
      "text/plain": [
       "array([[9, 6, 0, 0],\n",
       "       [3, 2, 0, 4],\n",
       "       [7, 3, 1, 3]], dtype=int64)"
      ]
     },
     "execution_count": 23,
     "metadata": {},
     "output_type": "execute_result"
    }
   ],
   "source": [
    "x2[::-1, ::-1] # all rows & columns, reversed"
   ]
  },
  {
   "cell_type": "markdown",
   "id": "35b5d01a-d8cd-40ed-93d7-ceff1fe80c83",
   "metadata": {},
   "source": [
    "One commonly needed routine is accessing single rows or columns of an array. This\n",
    "can be done by combining indexing and slicing, using an empty slice marked by a\n",
    "single colon (:):"
   ]
  },
  {
   "cell_type": "code",
   "execution_count": 24,
   "id": "ade45b75-0d6c-4796-ad1c-a9febd5d9b83",
   "metadata": {},
   "outputs": [
    {
     "data": {
      "text/plain": [
       "array([3, 4, 0], dtype=int64)"
      ]
     },
     "execution_count": 24,
     "metadata": {},
     "output_type": "execute_result"
    }
   ],
   "source": [
    "x2[:, 0] # first column of x2"
   ]
  },
  {
   "cell_type": "code",
   "execution_count": 25,
   "id": "482bad23-1b38-4064-bc55-e4fc17c9826e",
   "metadata": {},
   "outputs": [
    {
     "data": {
      "text/plain": [
       "array([3, 1, 3, 7], dtype=int64)"
      ]
     },
     "execution_count": 25,
     "metadata": {},
     "output_type": "execute_result"
    }
   ],
   "source": [
    "x2[0, :] # first row of x2"
   ]
  },
  {
   "cell_type": "markdown",
   "id": "64e2537a-adef-4dc3-9824-9b00d9284a06",
   "metadata": {},
   "source": [
    "In the case of row access, the empty slice can be omitted for a more compact syntax:"
   ]
  },
  {
   "cell_type": "code",
   "execution_count": 26,
   "id": "781b95fa-7b56-41c8-a894-08e6872b3c05",
   "metadata": {},
   "outputs": [
    {
     "data": {
      "text/plain": [
       "array([3, 1, 3, 7], dtype=int64)"
      ]
     },
     "execution_count": 26,
     "metadata": {},
     "output_type": "execute_result"
    }
   ],
   "source": [
    "x2[0] # equivalent to x2[0, :]"
   ]
  },
  {
   "cell_type": "markdown",
   "id": "e1fdac60-05ed-4d10-bfee-53f679a07411",
   "metadata": {},
   "source": [
    "### Slices are Views"
   ]
  },
  {
   "cell_type": "code",
   "execution_count": 27,
   "id": "0f3eed84-cdbd-4258-afa6-0bd9877d8dc9",
   "metadata": {},
   "outputs": [
    {
     "data": {
      "text/plain": [
       "array([[3, 1, 3, 7],\n",
       "       [4, 0, 2, 3],\n",
       "       [0, 0, 6, 9]], dtype=int64)"
      ]
     },
     "execution_count": 27,
     "metadata": {},
     "output_type": "execute_result"
    }
   ],
   "source": [
    "x2"
   ]
  },
  {
   "cell_type": "code",
   "execution_count": 28,
   "id": "13c0a91f-88f2-4e22-aaa8-22e29ada43d4",
   "metadata": {},
   "outputs": [
    {
     "data": {
      "text/plain": [
       "array([[3, 1],\n",
       "       [4, 0]], dtype=int64)"
      ]
     },
     "execution_count": 28,
     "metadata": {},
     "output_type": "execute_result"
    }
   ],
   "source": [
    "x2_sub = x2[:2, :2]\n",
    "x2_sub"
   ]
  },
  {
   "cell_type": "code",
   "execution_count": 29,
   "id": "55f62bd2-9940-471d-a275-f22077523dae",
   "metadata": {},
   "outputs": [
    {
     "data": {
      "text/plain": [
       "array([[99,  1],\n",
       "       [ 4,  0]], dtype=int64)"
      ]
     },
     "execution_count": 29,
     "metadata": {},
     "output_type": "execute_result"
    }
   ],
   "source": [
    "x2_sub[0, 0] = 99\n",
    "x2_sub    "
   ]
  },
  {
   "cell_type": "code",
   "execution_count": 30,
   "id": "e977b7e7-4e76-482b-a899-b950aaa7a8b7",
   "metadata": {},
   "outputs": [
    {
     "data": {
      "text/plain": [
       "array([[99,  1,  3,  7],\n",
       "       [ 4,  0,  2,  3],\n",
       "       [ 0,  0,  6,  9]], dtype=int64)"
      ]
     },
     "execution_count": 30,
     "metadata": {},
     "output_type": "execute_result"
    }
   ],
   "source": [
    "x2 # original is changed"
   ]
  },
  {
   "cell_type": "markdown",
   "id": "3bb1d6c1-1e4a-4ed5-8d27-8bd1994ffe66",
   "metadata": {},
   "source": [
    "### What if you need a Copy?"
   ]
  },
  {
   "cell_type": "code",
   "execution_count": 31,
   "id": "ce15b9df-2bcf-4833-a0a0-bed244d00dfc",
   "metadata": {},
   "outputs": [
    {
     "data": {
      "text/plain": [
       "array([[99,  1],\n",
       "       [ 4,  0]], dtype=int64)"
      ]
     },
     "execution_count": 31,
     "metadata": {},
     "output_type": "execute_result"
    }
   ],
   "source": [
    "x2_sub_copy = x2[:2, :2].copy()\n",
    "x2_sub_copy"
   ]
  },
  {
   "cell_type": "markdown",
   "id": "f1eccfde-1dce-4d4c-ae87-75c2f24a7143",
   "metadata": {},
   "source": [
    "### Reshaping"
   ]
  },
  {
   "cell_type": "code",
   "execution_count": 32,
   "id": "6f5207dd-fbf2-4143-bf30-85996cf7b40e",
   "metadata": {},
   "outputs": [
    {
     "data": {
      "text/plain": [
       "array([1, 2, 3, 4, 5, 6, 7, 8, 9])"
      ]
     },
     "execution_count": 32,
     "metadata": {},
     "output_type": "execute_result"
    }
   ],
   "source": [
    "grid = np.arange(1, 10)\n",
    "grid"
   ]
  },
  {
   "cell_type": "code",
   "execution_count": 33,
   "id": "6dac552c-6737-49b0-b1f6-d4166df5ce63",
   "metadata": {},
   "outputs": [
    {
     "data": {
      "text/plain": [
       "array([[1, 2, 3],\n",
       "       [4, 5, 6],\n",
       "       [7, 8, 9]])"
      ]
     },
     "execution_count": 33,
     "metadata": {},
     "output_type": "execute_result"
    }
   ],
   "source": [
    "grid = grid.reshape((3, 3))\n",
    "grid"
   ]
  },
  {
   "cell_type": "markdown",
   "id": "b80d5baf-1a28-48f9-91dc-e152833452d6",
   "metadata": {},
   "source": [
    "A common reshaping operation is converting a one-dimensional array into a two\u0002dimensional row or column matrix:"
   ]
  },
  {
   "cell_type": "code",
   "execution_count": 34,
   "id": "9359c018-847a-4fa2-914f-c8b390a41bdf",
   "metadata": {},
   "outputs": [
    {
     "data": {
      "text/plain": [
       "array([1, 2, 3])"
      ]
     },
     "execution_count": 34,
     "metadata": {},
     "output_type": "execute_result"
    }
   ],
   "source": [
    "x = np.array([1, 2, 3])\n",
    "x"
   ]
  },
  {
   "cell_type": "code",
   "execution_count": 35,
   "id": "996b1cc0-5c70-42b1-b9e1-e43b40c4554f",
   "metadata": {},
   "outputs": [
    {
     "data": {
      "text/plain": [
       "array([[1, 2, 3]])"
      ]
     },
     "execution_count": 35,
     "metadata": {},
     "output_type": "execute_result"
    }
   ],
   "source": [
    "x.reshape((1, 3)) # row vector via reshape"
   ]
  },
  {
   "cell_type": "code",
   "execution_count": 36,
   "id": "f11aa8ab-e4e8-4e6c-aab1-65ffdc83ff8a",
   "metadata": {},
   "outputs": [
    {
     "data": {
      "text/plain": [
       "array([[1],\n",
       "       [2],\n",
       "       [3]])"
      ]
     },
     "execution_count": 36,
     "metadata": {},
     "output_type": "execute_result"
    }
   ],
   "source": [
    "x.reshape((3, 1)) # column vector via reshape"
   ]
  },
  {
   "cell_type": "markdown",
   "id": "c0921655-076e-4554-aa16-7407b1fca2ab",
   "metadata": {},
   "source": [
    "A convenient shorthand for this is to use np.newaxis in the slicing syntax:"
   ]
  },
  {
   "cell_type": "code",
   "execution_count": 37,
   "id": "5fba307d-4054-4494-89fa-ba430b446d99",
   "metadata": {},
   "outputs": [
    {
     "data": {
      "text/plain": [
       "array([[1, 2, 3]])"
      ]
     },
     "execution_count": 37,
     "metadata": {},
     "output_type": "execute_result"
    }
   ],
   "source": [
    "x[np.newaxis, :] # row vector via newaxis"
   ]
  },
  {
   "cell_type": "code",
   "execution_count": 38,
   "id": "0ecb199f-b412-4fdc-9c06-d503bcde59d7",
   "metadata": {},
   "outputs": [
    {
     "data": {
      "text/plain": [
       "array([[1],\n",
       "       [2],\n",
       "       [3]])"
      ]
     },
     "execution_count": 38,
     "metadata": {},
     "output_type": "execute_result"
    }
   ],
   "source": [
    "x[:, np.newaxis] # column vector via newaxis"
   ]
  },
  {
   "cell_type": "markdown",
   "id": "8fff9215-3743-4f38-a614-1ccbe6e9a4fa",
   "metadata": {},
   "source": [
    "## Array Concatenation"
   ]
  },
  {
   "cell_type": "markdown",
   "id": "2edfea6b-6cfa-4dce-88dd-0dbe0b0bde43",
   "metadata": {},
   "source": [
    "### Concatenate"
   ]
  },
  {
   "cell_type": "code",
   "execution_count": 39,
   "id": "851de2e7-360b-4790-8532-9f36d5cdec7b",
   "metadata": {},
   "outputs": [
    {
     "name": "stdout",
     "output_type": "stream",
     "text": [
      "[1 2 3] [3 2 1]\n"
     ]
    }
   ],
   "source": [
    "x = np.array([1, 2, 3])\n",
    "y = np.array([3, 2, 1])\n",
    "print(x, y)"
   ]
  },
  {
   "cell_type": "code",
   "execution_count": 40,
   "id": "da3b5160-d87e-4f5f-b505-a267c1999156",
   "metadata": {},
   "outputs": [
    {
     "data": {
      "text/plain": [
       "array([1, 2, 3, 3, 2, 1])"
      ]
     },
     "execution_count": 40,
     "metadata": {},
     "output_type": "execute_result"
    }
   ],
   "source": [
    "np.concatenate([x, y])"
   ]
  },
  {
   "cell_type": "code",
   "execution_count": 41,
   "id": "3e87c146-c3ef-46ed-bf11-9a6fb0b8f906",
   "metadata": {},
   "outputs": [],
   "source": [
    "grid = np.array([[1, 2, 3], [4, 5, 6]])"
   ]
  },
  {
   "cell_type": "code",
   "execution_count": 42,
   "id": "157d6f7e-0e99-4ca0-bfdb-db5c38e816b1",
   "metadata": {},
   "outputs": [
    {
     "data": {
      "text/plain": [
       "array([[1, 2, 3],\n",
       "       [4, 5, 6],\n",
       "       [1, 2, 3],\n",
       "       [4, 5, 6]])"
      ]
     },
     "execution_count": 42,
     "metadata": {},
     "output_type": "execute_result"
    }
   ],
   "source": [
    "# concatenate along the first axis\n",
    "np.concatenate([grid, grid])"
   ]
  },
  {
   "cell_type": "code",
   "execution_count": 43,
   "id": "2a1bab07-0872-4da8-ad14-8e49943a7a42",
   "metadata": {},
   "outputs": [
    {
     "data": {
      "text/plain": [
       "array([[1, 2, 3, 1, 2, 3],\n",
       "       [4, 5, 6, 4, 5, 6]])"
      ]
     },
     "execution_count": 43,
     "metadata": {},
     "output_type": "execute_result"
    }
   ],
   "source": [
    "# concatenate along the second axis (zero-indexed)\n",
    "np.concatenate([grid, grid], axis=1)\n",
    "\n",
    "# The axis along which the arrays will be joined. \n",
    "# If axis is None, arrays are flattened before use. \n",
    "# Default is 0."
   ]
  },
  {
   "cell_type": "markdown",
   "id": "bfadc709-2a55-4264-8ab8-f1bda413de0e",
   "metadata": {},
   "source": [
    "### Stacking"
   ]
  },
  {
   "cell_type": "markdown",
   "id": "2ad5b61b-7500-4d1a-a92e-733a4d9c0c58",
   "metadata": {},
   "source": [
    "For working with arrays of mixed dimensions, it can be clearer to use the np.vstack\n",
    "(vertical stack) and np.hstack (horizontal stack) functions:"
   ]
  },
  {
   "cell_type": "code",
   "execution_count": 44,
   "id": "557f6c2e-5ab1-4e29-b6f1-711fa224e39c",
   "metadata": {},
   "outputs": [
    {
     "data": {
      "text/plain": [
       "array([[1, 2, 3],\n",
       "       [1, 2, 3],\n",
       "       [4, 5, 6]])"
      ]
     },
     "execution_count": 44,
     "metadata": {},
     "output_type": "execute_result"
    }
   ],
   "source": [
    "# vertically stack the arrays\n",
    "np.vstack([x, grid])"
   ]
  },
  {
   "cell_type": "code",
   "execution_count": 45,
   "id": "894e4960-538b-4ea3-8027-699cf306c7fe",
   "metadata": {},
   "outputs": [
    {
     "data": {
      "text/plain": [
       "array([[ 1,  2,  3, 99],\n",
       "       [ 4,  5,  6, 99]])"
      ]
     },
     "execution_count": 45,
     "metadata": {},
     "output_type": "execute_result"
    }
   ],
   "source": [
    "# horizontally stack the arrays\n",
    "y = np.array([\n",
    "    [99], \n",
    "    [99]\n",
    "])\n",
    "np.hstack([grid, y])"
   ]
  },
  {
   "cell_type": "markdown",
   "id": "8e216b23-3912-45bb-abb5-04450da11f82",
   "metadata": {},
   "source": [
    "## Array Splitting"
   ]
  },
  {
   "cell_type": "code",
   "execution_count": 68,
   "id": "83356fcf-1ebd-44df-98c4-3b65706df4d6",
   "metadata": {},
   "outputs": [
    {
     "name": "stdout",
     "output_type": "stream",
     "text": [
      "[1 2 3] [99 99] [3 2 1]\n"
     ]
    }
   ],
   "source": [
    "x = [1, 2, 3, 99, 99, 3, 2, 1]\n",
    "x1, x2, x3 = np.split(x, [3, 5])\n",
    "print(x1, x2, x3)"
   ]
  },
  {
   "cell_type": "code",
   "execution_count": 47,
   "id": "8db1458d-4300-49ca-aa48-63f204e31530",
   "metadata": {},
   "outputs": [
    {
     "data": {
      "text/plain": [
       "array([[ 0,  1,  2,  3],\n",
       "       [ 4,  5,  6,  7],\n",
       "       [ 8,  9, 10, 11],\n",
       "       [12, 13, 14, 15]])"
      ]
     },
     "execution_count": 47,
     "metadata": {},
     "output_type": "execute_result"
    }
   ],
   "source": [
    "grid = np.arange(16).reshape((4, 4))\n",
    "grid"
   ]
  },
  {
   "cell_type": "code",
   "execution_count": 48,
   "id": "5cc4172b-2b42-437c-96f3-d3e8184ff19f",
   "metadata": {},
   "outputs": [
    {
     "name": "stdout",
     "output_type": "stream",
     "text": [
      "[[0 1 2 3]\n",
      " [4 5 6 7]]\n",
      "[[ 8  9 10 11]\n",
      " [12 13 14 15]]\n"
     ]
    }
   ],
   "source": [
    "upper, lower = np.vsplit(grid, [2])\n",
    "print(upper)\n",
    "print(lower)"
   ]
  },
  {
   "cell_type": "code",
   "execution_count": 49,
   "id": "007c3122-587a-4c57-9147-6c1dff875548",
   "metadata": {},
   "outputs": [
    {
     "name": "stdout",
     "output_type": "stream",
     "text": [
      "[[ 0  1]\n",
      " [ 4  5]\n",
      " [ 8  9]\n",
      " [12 13]]\n",
      "[[ 2  3]\n",
      " [ 6  7]\n",
      " [10 11]\n",
      " [14 15]]\n"
     ]
    }
   ],
   "source": [
    "left, right = np.hsplit(grid, [2])\n",
    "print(left)\n",
    "print(right)"
   ]
  },
  {
   "cell_type": "markdown",
   "id": "125584c3-ded0-432f-b3b5-e5593cfd88ea",
   "metadata": {},
   "source": [
    "## Masks"
   ]
  },
  {
   "cell_type": "code",
   "execution_count": 50,
   "id": "57eecf0b-2bcc-4de1-a642-38d8f7866f29",
   "metadata": {},
   "outputs": [
    {
     "data": {
      "text/plain": [
       "array([ True,  True, False, False, False])"
      ]
     },
     "execution_count": 50,
     "metadata": {},
     "output_type": "execute_result"
    }
   ],
   "source": [
    "x = np.array([1, 2, 3, 4, 5])\n",
    "x < 3"
   ]
  },
  {
   "cell_type": "code",
   "execution_count": 51,
   "id": "8c61ed2d-4623-4473-85d8-8ecdde6b5099",
   "metadata": {},
   "outputs": [
    {
     "data": {
      "text/plain": [
       "5"
      ]
     },
     "execution_count": 51,
     "metadata": {},
     "output_type": "execute_result"
    }
   ],
   "source": [
    "# To count the number of True entries \n",
    "np.count_nonzero(x < 6)\n",
    "np.sum(x < 6) # axis can be specified for multi-dimensional arrays"
   ]
  },
  {
   "cell_type": "code",
   "execution_count": 52,
   "id": "bb1f4b8f-75ec-4688-9ab7-d0d9adc6eef2",
   "metadata": {},
   "outputs": [
    {
     "data": {
      "text/plain": [
       "False"
      ]
     },
     "execution_count": 52,
     "metadata": {},
     "output_type": "execute_result"
    }
   ],
   "source": [
    "np.any(x > 8) # axis can be specified for multi-dimensional arrays"
   ]
  },
  {
   "cell_type": "code",
   "execution_count": 53,
   "id": "8da0b4b7-f9d5-42c6-bf50-5acbbe8e8b6a",
   "metadata": {},
   "outputs": [
    {
     "data": {
      "text/plain": [
       "True"
      ]
     },
     "execution_count": 53,
     "metadata": {},
     "output_type": "execute_result"
    }
   ],
   "source": [
    "np.all(x < 10) # axis can be specified for multi-dimensional arrays"
   ]
  },
  {
   "cell_type": "markdown",
   "id": "3b08a83b-125b-4a4e-b415-387b260d992c",
   "metadata": {},
   "source": [
    "### Masking"
   ]
  },
  {
   "cell_type": "code",
   "execution_count": 54,
   "id": "fb47d51a-ed59-4c35-b3d6-4993523a93ba",
   "metadata": {},
   "outputs": [
    {
     "data": {
      "text/plain": [
       "array([[9, 3, 6, 6],\n",
       "       [5, 0, 2, 5],\n",
       "       [6, 4, 8, 2]], dtype=int64)"
      ]
     },
     "execution_count": 54,
     "metadata": {},
     "output_type": "execute_result"
    }
   ],
   "source": [
    "x2 = rng.integers(10, size=(3, 4))\n",
    "x2"
   ]
  },
  {
   "cell_type": "code",
   "execution_count": 55,
   "id": "16aec111-aca1-4433-8e1e-25c9f74458cf",
   "metadata": {},
   "outputs": [
    {
     "data": {
      "text/plain": [
       "array([ True,  True,  True,  True, False])"
      ]
     },
     "execution_count": 55,
     "metadata": {},
     "output_type": "execute_result"
    }
   ],
   "source": [
    "x < 5"
   ]
  },
  {
   "cell_type": "code",
   "execution_count": 56,
   "id": "a53e904d-3e2e-477e-a6bf-9c54f827cdf8",
   "metadata": {},
   "outputs": [
    {
     "data": {
      "text/plain": [
       "array([1, 2, 3, 4])"
      ]
     },
     "execution_count": 56,
     "metadata": {},
     "output_type": "execute_result"
    }
   ],
   "source": [
    "x[x < 5]"
   ]
  },
  {
   "cell_type": "code",
   "execution_count": null,
   "id": "a2ef8b51-0289-4390-8ebe-218dd30bf944",
   "metadata": {},
   "outputs": [],
   "source": []
  },
  {
   "cell_type": "markdown",
   "id": "b89984fd-6094-45dd-b762-381b1c0365a8",
   "metadata": {},
   "source": [
    "# Universal Functions"
   ]
  },
  {
   "cell_type": "markdown",
   "id": "41a527ff-ef2e-47fb-bb0b-a95677f0616c",
   "metadata": {},
   "source": [
    "## Aggregations"
   ]
  },
  {
   "cell_type": "markdown",
   "id": "ce9e8091-9203-4402-91c1-c1d6a06690fb",
   "metadata": {},
   "source": [
    "A reduce repeatedly applies a given operation to the elements\n",
    "of an array until only a single result remains."
   ]
  },
  {
   "cell_type": "markdown",
   "id": "21d451c4-fe90-4f35-bdf4-e3befec1b372",
   "metadata": {},
   "source": [
    "### Reduce"
   ]
  },
  {
   "cell_type": "code",
   "execution_count": 57,
   "id": "6ce3a474-1340-443e-9309-c9b9e1ce2e9a",
   "metadata": {},
   "outputs": [
    {
     "data": {
      "text/plain": [
       "15"
      ]
     },
     "execution_count": 57,
     "metadata": {},
     "output_type": "execute_result"
    }
   ],
   "source": [
    "# returns sum of all elements\n",
    "x = np.arange(1, 6)\n",
    "np.add.reduce(x)"
   ]
  },
  {
   "cell_type": "code",
   "execution_count": 58,
   "id": "ab6c8373-e38f-4f04-bf11-8c70d9c4bc5b",
   "metadata": {},
   "outputs": [
    {
     "data": {
      "text/plain": [
       "120"
      ]
     },
     "execution_count": 58,
     "metadata": {},
     "output_type": "execute_result"
    }
   ],
   "source": [
    "np.multiply.reduce(x)"
   ]
  },
  {
   "cell_type": "markdown",
   "id": "3a5a0adc-50f7-427c-89b3-9ef6eac1b53d",
   "metadata": {},
   "source": [
    "### Accumulate"
   ]
  },
  {
   "cell_type": "code",
   "execution_count": 59,
   "id": "87b4b3aa-cc2f-4631-a13b-4ed9a8edfaf8",
   "metadata": {},
   "outputs": [
    {
     "data": {
      "text/plain": [
       "array([ 1,  3,  6, 10, 15])"
      ]
     },
     "execution_count": 59,
     "metadata": {},
     "output_type": "execute_result"
    }
   ],
   "source": [
    "# to store all the intermediate results use accumulate instead\n",
    "np.add.accumulate(x)"
   ]
  },
  {
   "cell_type": "markdown",
   "id": "49644bf9-c934-4e76-ba85-67c433711107",
   "metadata": {},
   "source": [
    "# Structured Array"
   ]
  },
  {
   "cell_type": "markdown",
   "id": "ffddea13-9254-4488-b544-498023a609ac",
   "metadata": {},
   "source": [
    "Provides efficient storage for compound, heterogeneous data"
   ]
  },
  {
   "cell_type": "code",
   "execution_count": 60,
   "id": "072ee0df-e5ab-46b3-b942-fa631e368ce4",
   "metadata": {},
   "outputs": [
    {
     "data": {
      "text/plain": [
       "array([0, 0, 0, 0])"
      ]
     },
     "execution_count": 60,
     "metadata": {},
     "output_type": "execute_result"
    }
   ],
   "source": [
    "# simple unstructured array as seen before\n",
    "x = np.zeros(4, dtype=int) \n",
    "x"
   ]
  },
  {
   "cell_type": "code",
   "execution_count": 61,
   "id": "20aa3ae0-fe7a-4112-9cf1-8d7a8d35ff0c",
   "metadata": {},
   "outputs": [
    {
     "data": {
      "text/plain": [
       "array([('', 0, 0.), ('', 0, 0.), ('', 0, 0.), ('', 0, 0.)],\n",
       "      dtype=[('name', '<U10'), ('age', '<i4'), ('weight', '<f8')])"
      ]
     },
     "execution_count": 61,
     "metadata": {},
     "output_type": "execute_result"
    }
   ],
   "source": [
    "# Use a compound data type for structured arrays\n",
    "data = np.zeros(4, dtype={\n",
    "    'names':('name', 'age', 'weight'),\n",
    "    'formats':('U10', 'i4', 'f8')\n",
    "})\n",
    "data"
   ]
  },
  {
   "cell_type": "code",
   "execution_count": 62,
   "id": "fa6cb507-cf8a-470b-ba15-098558cdd3d9",
   "metadata": {},
   "outputs": [],
   "source": [
    "name = ['Alice', 'Bob', 'Cathy', 'Doug']\n",
    "age = [25, 45, 37, 19]\n",
    "weight = [55.0, 85.5, 68.0, 61.5]"
   ]
  },
  {
   "cell_type": "code",
   "execution_count": 63,
   "id": "3ef5667a-4a84-4bb0-9a5d-63d8520ef873",
   "metadata": {},
   "outputs": [
    {
     "name": "stdout",
     "output_type": "stream",
     "text": [
      "[('Alice', 25, 55. ) ('Bob', 45, 85.5) ('Cathy', 37, 68. )\n",
      " ('Doug', 19, 61.5)]\n"
     ]
    }
   ],
   "source": [
    "data['name'] = name\n",
    "data['age'] = age\n",
    "data['weight'] = weight\n",
    "print(data)"
   ]
  },
  {
   "cell_type": "markdown",
   "id": "d85343e1-86a0-476a-9814-6152a93be603",
   "metadata": {},
   "source": [
    "## Indexing"
   ]
  },
  {
   "cell_type": "code",
   "execution_count": 64,
   "id": "67f7ff09-fba9-4a98-9417-c75a9052f6a3",
   "metadata": {},
   "outputs": [
    {
     "data": {
      "text/plain": [
       "array(['Alice', 'Bob', 'Cathy', 'Doug'], dtype='<U10')"
      ]
     },
     "execution_count": 64,
     "metadata": {},
     "output_type": "execute_result"
    }
   ],
   "source": [
    "# Get all names\n",
    "data['name']"
   ]
  },
  {
   "cell_type": "code",
   "execution_count": 65,
   "id": "5067707b-b482-4d65-bdee-36c72f6869a4",
   "metadata": {},
   "outputs": [
    {
     "data": {
      "text/plain": [
       "('Alice', 25, 55.)"
      ]
     },
     "execution_count": 65,
     "metadata": {},
     "output_type": "execute_result"
    }
   ],
   "source": [
    "# Get first row of dat\n",
    "data[0]"
   ]
  },
  {
   "cell_type": "code",
   "execution_count": 66,
   "id": "d7a184b8-69aa-4473-824c-defaba5db0ed",
   "metadata": {},
   "outputs": [
    {
     "data": {
      "text/plain": [
       "'Doug'"
      ]
     },
     "execution_count": 66,
     "metadata": {},
     "output_type": "execute_result"
    }
   ],
   "source": [
    "# Get the name from the last row\n",
    "data[-1]['name']"
   ]
  },
  {
   "cell_type": "code",
   "execution_count": 67,
   "id": "db12aef6-b750-4644-9133-89c3c721166a",
   "metadata": {},
   "outputs": [
    {
     "data": {
      "text/plain": [
       "array(['Alice', 'Doug'], dtype='<U10')"
      ]
     },
     "execution_count": 67,
     "metadata": {},
     "output_type": "execute_result"
    }
   ],
   "source": [
    "# Get names where age is under 30\n",
    "data[data['age'] < 30]['name']"
   ]
  },
  {
   "cell_type": "code",
   "execution_count": null,
   "id": "35360328-c3fa-44b3-aa45-3e9832cddf43",
   "metadata": {},
   "outputs": [],
   "source": []
  }
 ],
 "metadata": {
  "kernelspec": {
   "display_name": "Python 3 (ipykernel)",
   "language": "python",
   "name": "python3"
  },
  "language_info": {
   "codemirror_mode": {
    "name": "ipython",
    "version": 3
   },
   "file_extension": ".py",
   "mimetype": "text/x-python",
   "name": "python",
   "nbconvert_exporter": "python",
   "pygments_lexer": "ipython3",
   "version": "3.9.16"
  },
  "toc-autonumbering": true,
  "toc-showcode": false,
  "toc-showmarkdowntxt": false
 },
 "nbformat": 4,
 "nbformat_minor": 5
}
